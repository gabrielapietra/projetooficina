{
 "cells": [
  {
   "cell_type": "code",
   "execution_count": 1,
   "id": "329a1033",
   "metadata": {},
   "outputs": [
    {
     "data": {
      "image/png": "[encoded data removed]",
      "text/plain": [
       "<Figure size 432x288 with 1 Axes>"
      ]
     },
     "metadata": {
      "needs_background": "light"
     },
     "output_type": "display_data"
    }
   ],
   "source": [
    "import pyaudio\n",
    "import numpy\n",
    "import math\n",
    "import matplotlib.pyplot as plt\n",
    "import matplotlib.animation\n",
    "\n",
    "RATE = 44100\n",
    "BUFFER = 882\n",
    "\n",
    "p = pyaudio.PyAudio()\n",
    "\n",
    "stream = p.open(\n",
    "    format = pyaudio.paFloat32,\n",
    "    channels = 1,\n",
    "    rate = RATE,\n",
    "    input = True,\n",
    "    output = False,\n",
    "    frames_per_buffer = BUFFER\n",
    ")\n",
    "\n",
    "fig = plt.figure()\n",
    "line1 = plt.plot([],[])[0]\n",
    "line2 = plt.plot([],[])[0]\n",
    "\n",
    "r = range(0,int(RATE/2+1),int(RATE/BUFFER))\n",
    "l = len(r)\n",
    "\n",
    "def init_line():\n",
    "        line1.set_data(r, [-1000]*l)\n",
    "        line2.set_data(r, [-1000]*l)\n",
    "        return (line1,line2,)\n",
    "\n",
    "def update_line(i):\n",
    "    try:\n",
    "        data = numpy.fft.rfft(numpy.fromstring(\n",
    "            stream.read(BUFFER), dtype=numpy.float32)\n",
    "        )\n",
    "    except IOError:\n",
    "        pass\n",
    "    data = numpy.log10(numpy.sqrt(\n",
    "        numpy.real(data)**2+numpy.imag(data)**2) / BUFFER) * 10\n",
    "    line1.set_data(r, data)\n",
    "    line2.set_data(numpy.maximum(line1.get_data(), line2.get_data()))\n",
    "    return (line1,line2,)\n",
    "\n",
    "plt.xlim(0, RATE/2+1)\n",
    "plt.ylim(-60, 0)\n",
    "plt.xlabel('Frequency')\n",
    "plt.ylabel('dB')\n",
    "plt.title('Spectrometer')\n",
    "plt.grid()\n",
    "\n",
    "line_ani = matplotlib.animation.FuncAnimation(\n",
    "    fig, update_line, init_func=init_line, interval=0, blit=True\n",
    ")\n",
    "\n",
    "plt.show()"
   ]
  },
  {
   "cell_type": "code",
   "execution_count": null,
   "id": "30c4aa51",
   "metadata": {},
   "outputs": [],
   "source": []
  }
 ],
 "metadata": {
  "kernelspec": {
   "display_name": "Python 3",
   "language": "python",
   "name": "python3"
  },
  "language_info": {
   "codemirror_mode": {
    "name": "ipython",
    "version": 3
   },
   "file_extension": ".py",
   "mimetype": "text/x-python",
   "name": "python",
   "nbconvert_exporter": "python",
   "pygments_lexer": "ipython3",
   "version": "3.8.8"
  }
 },
 "nbformat": 4,
 "nbformat_minor": 5
}
