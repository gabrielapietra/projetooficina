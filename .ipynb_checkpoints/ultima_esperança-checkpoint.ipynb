{
 "cells": [
  {
   "cell_type": "code",
   "execution_count": 1,
   "id": "108fddf9",
   "metadata": {},
   "outputs": [],
   "source": [
    "import pyaudio\n",
    "import struct\n",
    "import numpy as np\n",
    "import matplotlib.pyplot as plt\n",
    "import librosa\n",
    "import librosa.display as ld\n",
    "from IPython.display import Audio\n",
    "import time\n",
    "import wave\n",
    "import os\n",
    "import logging\n",
    "\n",
    "%matplotlib tk"
   ]
  },
  {
   "cell_type": "markdown",
   "id": "184eee59",
   "metadata": {},
   "source": [
    "CHUNK = how much audio gonna be processed at a time / how many audio samples per frame (1024 * 4)\n",
    "\n",
    "FORMAT = pyaudio.paInt16 (bytes per sample)\n",
    "\n",
    "CHANNELS = \n",
    "\n",
    "RATE = samples per second (fs)\n",
    "\n"
   ]
  },
  {
   "cell_type": "code",
   "execution_count": 2,
   "id": "2fb80899",
   "metadata": {},
   "outputs": [],
   "source": [
    "#Audio(filename='DerezzedShort5.wav')"
   ]
  },
  {
   "cell_type": "code",
   "execution_count": 3,
   "id": "c5243892",
   "metadata": {},
   "outputs": [],
   "source": [
    "#data, fs = librosa.load('DerezzedShort5.wav', sr=None)\n"
   ]
  },
  {
   "cell_type": "markdown",
   "id": "b8b1ba3f",
   "metadata": {},
   "source": [
    "def play_audio_file(fname='DerezzedShort5.wav'):\n",
    "    \"\"\"Simple callback function to play a wave file.    \"\"\"\n",
    "    song_wav = wave.open(fname, 'rb')\n",
    "    song_data = song_wav.readframes(song_wav.getnframes())\n",
    "    audio = pyaudio.PyAudio()\n",
    "    stream_out = audio.open(\n",
    "        format=audio.get_format_from_width(song_wav.getsampwidth()),\n",
    "        channels=song_wav.getnchannels(),\n",
    "        rate=song_wav.getframerate(), input=True, output=True)\n",
    "    stream_out.start_stream()\n",
    "    stream_out.write(song_data)\n",
    "    #time.sleep(0.2)\n",
    "    stream_out.stop_stream()\n",
    "    stream_out.close()\n",
    "    audio.terminate() "
   ]
  },
  {
   "cell_type": "code",
   "execution_count": 4,
   "id": "bd8ae2c2",
   "metadata": {},
   "outputs": [],
   "source": [
    "#play_audio_file('DerezzedShort5.wav')"
   ]
  },
  {
   "cell_type": "code",
   "execution_count": 5,
   "id": "e99015b4",
   "metadata": {},
   "outputs": [],
   "source": [
    "song_wav = wave.open('DerezzedShort5.wav', 'rb')\n",
    "FORMAT = pyaudio.PyAudio().get_format_from_width(song_wav.getsampwidth())\n",
    "CHANNELS = song_wav.getnchannels()\n",
    "RATE = song_wav.getframerate()\n",
    "CHUNK = song_wav.getnframes()\n",
    "#CHUNK = song_wav.readframes(n_frames)"
   ]
  },
  {
   "cell_type": "code",
   "execution_count": 6,
   "id": "f727fdf5",
   "metadata": {},
   "outputs": [],
   "source": [
    "p = pyaudio.PyAudio()\n",
    "\n",
    "stream = p.open(\n",
    "    format = FORMAT,\n",
    "    channels = CHANNELS,\n",
    "    rate = RATE,\n",
    "    input = True,\n",
    "    output = True,\n",
    "    frames_per_buffer = CHUNK\n",
    ")"
   ]
  },
  {
   "cell_type": "code",
   "execution_count": 7,
   "id": "22bf5000",
   "metadata": {
    "scrolled": false
   },
   "outputs": [
    {
     "ename": "error",
     "evalue": "unpack requires a buffer of 232448 bytes",
     "output_type": "error",
     "traceback": [
      "\u001b[1;31m---------------------------------------------------------------------------\u001b[0m",
      "\u001b[1;31merror\u001b[0m                                     Traceback (most recent call last)",
      "\u001b[1;32m<ipython-input-7-344aad842622>\u001b[0m in \u001b[0;36m<module>\u001b[1;34m\u001b[0m\n\u001b[0;32m      1\u001b[0m \u001b[0mdata\u001b[0m \u001b[1;33m=\u001b[0m \u001b[0mstream\u001b[0m\u001b[1;33m.\u001b[0m\u001b[0mread\u001b[0m\u001b[1;33m(\u001b[0m\u001b[0mCHUNK\u001b[0m\u001b[1;33m)\u001b[0m\u001b[1;33m\u001b[0m\u001b[1;33m\u001b[0m\u001b[0m\n\u001b[1;32m----> 2\u001b[1;33m \u001b[0mdata_int\u001b[0m \u001b[1;33m=\u001b[0m \u001b[0mstruct\u001b[0m\u001b[1;33m.\u001b[0m\u001b[0munpack\u001b[0m\u001b[1;33m(\u001b[0m\u001b[0mstr\u001b[0m\u001b[1;33m(\u001b[0m\u001b[0mCHUNK\u001b[0m\u001b[1;33m)\u001b[0m \u001b[1;33m+\u001b[0m \u001b[1;34m'B'\u001b[0m\u001b[1;33m,\u001b[0m \u001b[0mdata\u001b[0m\u001b[1;33m)\u001b[0m\u001b[1;33m\u001b[0m\u001b[1;33m\u001b[0m\u001b[0m\n\u001b[0m\u001b[0;32m      3\u001b[0m \u001b[0mdata_int\u001b[0m\u001b[1;33m\u001b[0m\u001b[1;33m\u001b[0m\u001b[0m\n\u001b[0;32m      4\u001b[0m \u001b[1;33m\u001b[0m\u001b[0m\n\u001b[0;32m      5\u001b[0m \u001b[0mfig\u001b[0m\u001b[1;33m,\u001b[0m \u001b[0max\u001b[0m \u001b[1;33m=\u001b[0m \u001b[0mplt\u001b[0m\u001b[1;33m.\u001b[0m\u001b[0msubplots\u001b[0m\u001b[1;33m(\u001b[0m\u001b[1;33m)\u001b[0m\u001b[1;33m\u001b[0m\u001b[1;33m\u001b[0m\u001b[0m\n",
      "\u001b[1;31merror\u001b[0m: unpack requires a buffer of 232448 bytes"
     ]
    }
   ],
   "source": [
    "data = stream.read(CHUNK)\n",
    "data_int = struct.unpack(str(CHUNK) + 'B', data)\n",
    "data_int\n",
    "\n",
    "fig, ax = plt.subplots()\n",
    "\n",
    "ax. plot(data_int, '-')"
   ]
  },
  {
   "cell_type": "code",
   "execution_count": null,
   "id": "76dcbfdf",
   "metadata": {},
   "outputs": [],
   "source": [
    "len(CHUNK)"
   ]
  },
  {
   "cell_type": "code",
   "execution_count": null,
   "id": "c9e6c21c",
   "metadata": {},
   "outputs": [],
   "source": []
  }
 ],
 "metadata": {
  "kernelspec": {
   "display_name": "Python 3",
   "language": "python",
   "name": "python3"
  }
 },
 "nbformat": 4,
 "nbformat_minor": 5
}
